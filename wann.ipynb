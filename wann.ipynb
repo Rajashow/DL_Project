{
  "nbformat": 4,
  "nbformat_minor": 0,
  "metadata": {
    "colab": {
      "name": "wann.ipynb",
      "provenance": [],
      "collapsed_sections": []
    },
    "kernelspec": {
      "name": "python3",
      "display_name": "Python 3"
    }
  },
  "cells": [
    {
      "cell_type": "code",
      "metadata": {
        "id": "d8tNl-_m-Q7_",
        "colab_type": "code",
        "colab": {}
      },
      "source": [
        "import copy\n",
        "import networkx as nx\n",
        "import torch\n",
        "import torch.nn.functional as F\n",
        "\n",
        "from networkx.algorithms.dag import topological_sort"
      ],
      "execution_count": 0,
      "outputs": []
    },
    {
      "cell_type": "code",
      "metadata": {
        "id": "jv4HnSfMvfz9",
        "colab_type": "code",
        "colab": {}
      },
      "source": [
        "class wann:\n",
        "  def __init__(self, input_dim, num_classes):\n",
        "    \"\"\"\n",
        "    Initializes a WANN with no connections.\n",
        "    Each node is an integer.\n",
        "    \"\"\"\n",
        "    self.input_dim = input_dim\n",
        "    self.num_classes = num_classes\n",
        "    self.hidden = 0\n",
        "    self.g = nx.DiGraph()\n",
        "    self.activations = {}\n",
        "\n",
        "    for i in range(input_dim):\n",
        "      v = \"i\" + str(i)\n",
        "      self.g.add_node(v)\n",
        "      self.activations[v] = None\n",
        "    for i in range(num_classes):\n",
        "      v = \"o\" + str(i)\n",
        "      self.g.add_node(v)\n",
        "      self.activations[v] = None\n",
        "  \n",
        "  @staticmethod\n",
        "  def copy(w):\n",
        "    \"\"\"\n",
        "    Copies WANN.\n",
        "    \"\"\"\n",
        "    copy = wann(w.input_dim, w.num_classes)\n",
        "    copy.hidden = w.hidden\n",
        "    copy.g = copy.deepcopy(w.g)\n",
        "    copy.activations = copy.deepcopy(w.activations)\n",
        "    return copy\n",
        "\n",
        "  def add_node(self, u, v, activation):\n",
        "    \"\"\"\n",
        "    Splits the edge u->v to u->x->v and sets activation of node x.\n",
        "    \"\"\"\n",
        "    x = self.hidden\n",
        "    self.hidden += 1\n",
        "    self.g.add_node(x)\n",
        "    self.g.remove_edge(u, v)\n",
        "    self.g.add_edge(u, x)\n",
        "    self.g.add_edge(x, v)\n",
        "    self.activations[x]=activation\n",
        "  \n",
        "  def add_edge(self, u, v):\n",
        "    \"\"\"\n",
        "    Adds edge u->v.\n",
        "    \"\"\"\n",
        "    self.g.add_edge(u, v)\n",
        "  \n",
        "  def change_activation(self, v, activation):\n",
        "    \"\"\"\n",
        "    Changes activation of node v.\n",
        "    \"\"\"\n",
        "    self.activations[v] = activation\n",
        "  \n",
        "  def forward(self, input, weight):\n",
        "    \"\"\"\n",
        "    Calculates forward pass using shared weight.\n",
        "    Softmax at end for probabilities of each class.\n",
        "    \"\"\"\n",
        "    assert len(input.shape) == 2 and input.shape[1] == self.input_dim\n",
        "\n",
        "    output = {i: 0 for i in range(self.hidden)}\n",
        "    for i in range(self.input_dim):\n",
        "      output[\"i\" + str(i)] = input[:,i]\n",
        "    for i in range(self.num_classes):\n",
        "      output[\"o\" + str(i)] = torch.zeros(input.shape[0])\n",
        "\n",
        "    for v in topological_sort(self.g):\n",
        "      activation = self.activations[v]\n",
        "      if activation is not None:\n",
        "        output[v] = activation(output[v])\n",
        "      for w in self.g.neighbors(v):\n",
        "        output[w] += weight * output[v]\n",
        "    \n",
        "    final = torch.stack(tuple(output[\"o\" + str(i)] for i in range(self.num_classes))).transpose(0, 1)\n",
        "    return F.softmax(final, dim=1)\n",
        "  \n",
        "  def to_nn(self):\n",
        "    \"\"\"\n",
        "    Returns pytorch neural network.\n",
        "    \"\"\"\n",
        "    pass\n",
        "  \n",
        "  def visualize(self):\n",
        "    \"\"\"\n",
        "    Creates diagram of WANN.\n",
        "    \"\"\"\n",
        "    hidden_x = [1] * self.hidden\n",
        "    for i in range(self.input_dim):\n",
        "      for v, pl in nx.single_source_shortest_path_length(self.g, \"i\" + str(i)).items():\n",
        "        if isinstance(v, int):\n",
        "          hidden_x[v] = max(hidden_x[v], pl)\n",
        "\n",
        "    layers = [[] for i in range(max(hidden_x) + 1)]\n",
        "    layers[0] = [\"i\" + str(i) for i in range(self.input_dim)]\n",
        "    for i in range(self.hidden):\n",
        "      layers[hidden_x[i]].append(i)\n",
        "    layers.append([\"o\" + str(i) for i in range(self.num_classes)])\n",
        "\n",
        "    pos = {}\n",
        "    for x in range(len(layers)):\n",
        "      y = (1 - len(layers[x])) // 2\n",
        "      for v in layers[x]:\n",
        "        pos[v] = (x, y)\n",
        "        y += 1\n",
        "\n",
        "    labels = {}\n",
        "    for i in range(self.hidden):\n",
        "      if self.activations[i] is None:\n",
        "        labels[i] = \"None\"\n",
        "      else:\n",
        "        labels[i] = self.activations[i].__name__\n",
        "    for i in range(self.input_dim):\n",
        "      labels[\"i\" + str(i)] = \"i\" + str(i)\n",
        "    for i in range(self.num_classes):\n",
        "      labels[\"o\" + str(i)] = \"o\" + str(i)\n",
        "    \n",
        "    nx.draw(self.g, with_labels=True, pos=pos, labels=labels)"
      ],
      "execution_count": 0,
      "outputs": []
    },
    {
      "cell_type": "code",
      "metadata": {
        "id": "3mes6t7AM3ES",
        "colab_type": "code",
        "colab": {
          "base_uri": "https://localhost:8080/",
          "height": 353
        },
        "outputId": "b32a0d2a-aff0-4c4f-b112-f7aaf3dccda5"
      },
      "source": [
        "w = wann(5,3)\n",
        "w.add_edge(\"i0\", \"o2\")\n",
        "w.add_node(\"i0\", \"o2\", F.relu)\n",
        "print(w.forward(torch.FloatTensor([[1,2,3,4,5],[6,7,8,9,10]]), 2))\n",
        "w.visualize()"
      ],
      "execution_count": 196,
      "outputs": [
        {
          "output_type": "stream",
          "text": [
            "tensor([[1.7668e-02, 1.7668e-02, 9.6466e-01],\n",
            "        [3.7751e-11, 3.7751e-11, 1.0000e+00]])\n"
          ],
          "name": "stdout"
        },
        {
          "output_type": "display_data",
          "data": {
            "image/png": "[encoded data removed]",
            "text/plain": [
              "<Figure size 432x288 with 1 Axes>"
            ]
          },
          "metadata": {
            "tags": []
          }
        }
      ]
    },
    {
      "cell_type": "code",
      "metadata": {
        "id": "Sy4qJANyiG4K",
        "colab_type": "code",
        "colab": {
          "base_uri": "https://localhost:8080/",
          "height": 319
        },
        "outputId": "d58a6da7-4a6c-4bb1-b1bf-632f95ece592"
      },
      "source": [
        "w = wann(20,10)\n",
        "w.add_edge(\"i0\", \"o2\")\n",
        "w.add_node(\"i0\", \"o2\", F.relu)\n",
        "w.add_edge(\"i19\", \"o7\")\n",
        "w.add_edge(0, \"o5\")\n",
        "w.add_node(\"i0\", 0, torch.sigmoid)\n",
        "w.visualize()"
      ],
      "execution_count": 203,
      "outputs": [
        {
          "output_type": "display_data",
          "data": {
            "image/png": "[encoded data removed]",
            "text/plain": [
              "<Figure size 432x288 with 1 Axes>"
            ]
          },
          "metadata": {
            "tags": []
          }
        }
      ]
    }
  ]
}