{
  "nbformat": 4,
  "nbformat_minor": 0,
  "metadata": {
    "colab": {
      "name": "wann.ipynb",
      "provenance": [],
      "collapsed_sections": []
    },
    "kernelspec": {
      "name": "python3",
      "display_name": "Python 3"
    }
  },
  "cells": [
    {
      "cell_type": "code",
      "metadata": {
        "id": "d8tNl-_m-Q7_",
        "colab_type": "code",
        "colab": {}
      },
      "source": [
        "import torch\n",
        "import torch.nn as nn"
      ],
      "execution_count": 0,
      "outputs": []
    },
    {
      "cell_type": "code",
      "metadata": {
        "id": "gI51CdLuA9vR",
        "colab_type": "code",
        "colab": {}
      },
      "source": [
        "def topological_sort(g):\n",
        "  pass"
      ],
      "execution_count": 0,
      "outputs": []
    },
    {
      "cell_type": "code",
      "metadata": {
        "id": "GaefZrLOCrnK",
        "colab_type": "code",
        "colab": {}
      },
      "source": [
        "def activate(x, activation):\n",
        "  pass"
      ],
      "execution_count": 0,
      "outputs": []
    },
    {
      "cell_type": "code",
      "metadata": {
        "id": "jv4HnSfMvfz9",
        "colab_type": "code",
        "colab": {}
      },
      "source": [
        "class wann:\n",
        "  def __init__(input_dim, num_classes):\n",
        "    \"\"\"\n",
        "    Initializes a WANN with no connections.\n",
        "    \"\"\"\n",
        "    self.input_dim = input_dim\n",
        "    self.num_classes = num_classes\n",
        "    self.n = input_dim + num_classes\n",
        "    self.g = [set() for i in range(self.n)]\n",
        "    self.activations = [None] * elf.n\n",
        "  \n",
        "  def add_node(u, v, activation):\n",
        "    \"\"\"\n",
        "    Splits the edge u->v to u->x->v and sets activation of node x.\n",
        "    \"\"\"\n",
        "    x = self.n\n",
        "    \n",
        "    self.n += 1\n",
        "    \n",
        "    self.g.append(set())\n",
        "    self.g[u].remove(v)\n",
        "    self.g[u].add(x)\n",
        "    self.g[-1].add(v)\n",
        "    \n",
        "    self.activations.append(activation)\n",
        "  \n",
        "  def add_edge(u, v):\n",
        "    \"\"\"\n",
        "    Adds edge u->v.\n",
        "    \"\"\"\n",
        "    self.g[u].add(v)\n",
        "  \n",
        "  def change_activation(v, activation):\n",
        "    \"\"\"\n",
        "    Changes activation of node v.\n",
        "    \"\"\"\n",
        "    self.activations[v] = activation\n",
        "  \n",
        "  def forward(input, weight):\n",
        "    \"\"\"\n",
        "    Calculates forward pass using shared weight.\n",
        "    \"\"\"\n",
        "    assert len(input) == self.input_dim\n",
        "    output = input + [0] * (self.n - self.input_dim)\n",
        "    l = topological_sort(self.g)\n",
        "    for v in l:\n",
        "      a = activate(output[v], self.activations[v])\n",
        "      for w in self.g[v]:\n",
        "        output[w] += a\n",
        "    return output[self.input_dim : self.input_dim + self.num_classes]"
      ],
      "execution_count": 0,
      "outputs": []
    }
  ]
}