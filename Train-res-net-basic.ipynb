{
 "cells": [
  {
   "cell_type": "markdown",
   "metadata": {},
   "source": [
    "# Resnet Basic Training\n",
    "### How to train model\n",
    "To train the resnet, run the following in Google colab:"
   ]
  },
  {
   "cell_type": "markdown",
   "metadata": {},
   "source": [
    "```\n",
    "!python main.py --lr 0.0001 --epochs 50 --batch 1 --name default-experiment --momentum 0.9 --weightdecay 5e-4 --incrlr False --upperlr 0.01\n",
    "```"
   ]
  },
  {
   "cell_type": "markdown",
   "metadata": {},
   "source": [
    "The flags correspond to the following:\n",
    "* lr = learning rate\n",
    "\n",
    "* epochs = number of epochs\n",
    "\n",
    "* batch = batch size (__warning:__ RAM usable quickly increases as batch size\n",
    "\n",
    "* name = what the model .pth file will be named\n",
    "\n",
    "* momentum = gradient descent momentum\n",
    "\n",
    "* weightdecay = gradient descent weight decay\n",
    "\n",
    "* incrlr = if `True`, then we increment the learning rate to the upper limit `upperlr`\n",
    "\n",
    "* upperlr = the upper limit learning rate we iteratively sum to"
   ]
  },
  {
   "cell_type": "markdown",
   "metadata": {},
   "source": [
    "### Assumptions?\n",
    "For the above to run, it is assumed that there exists a directory `./data/` with the `.npy` files for the classes. You can include any number and combination of such files. \n",
    "\n",
    "### Result?\n",
    "For a name `experiment-name`, you get model files `experiment-name_detector.pth` and `experiment-name_best_detector.pth`."
   ]
  },
  {
   "cell_type": "code",
   "execution_count": null,
   "metadata": {},
   "outputs": [],
   "source": [
    "!python main.py --lr 0.0001 --epochs 50 --batch 1 --name default-experiment --momentum 0.9 --weightdecay 5e-4 --incrlr False --upperlr 0.01"
   ]
  }
 ],
 "metadata": {
  "kernelspec": {
   "display_name": "Python 3",
   "language": "python",
   "name": "python3"
  },
  "language_info": {
   "codemirror_mode": {
    "name": "ipython",
    "version": 3
   },
   "file_extension": ".py",
   "mimetype": "text/x-python",
   "name": "python",
   "nbconvert_exporter": "python",
   "pygments_lexer": "ipython3",
   "version": "3.7.7"
  }
 },
 "nbformat": 4,
 "nbformat_minor": 4
}
