{
 "cells": [
  {
   "cell_type": "code",
   "execution_count": 2,
   "metadata": {
    "colab": {
     "base_uri": "https://localhost:8080/",
     "height": 121
    },
    "colab_type": "code",
    "executionInfo": {
     "elapsed": 12846,
     "status": "ok",
     "timestamp": 1589010316962,
     "user": {
      "displayName": "Davin Park",
      "photoUrl": "https://lh4.googleusercontent.com/-NhlLDqI55RM/AAAAAAAAAAI/AAAAAAAAFUY/8NbR9a_AzPE/s64/photo.jpg",
      "userId": "03358772797378969831"
     },
     "user_tz": 240
    },
    "id": "8aQvFMfxxMTy",
    "outputId": "3574a3e1-fc07-4524-b75e-156c1888ae6f"
   },
   "outputs": [
    {
     "name": "stdout",
     "output_type": "stream",
     "text": [
      "Go to this URL in a browser: https://accounts.google.com/o/oauth2/auth?client_id=947318989803-6bn6qk8qdgf4n4g3pfee6491hc0brc4i.apps.googleusercontent.com&redirect_uri=urn%3aietf%3awg%3aoauth%3a2.0%3aoob&response_type=code&scope=email%20https%3a%2f%2fwww.googleapis.com%2fauth%2fdocs.test%20https%3a%2f%2fwww.googleapis.com%2fauth%2fdrive%20https%3a%2f%2fwww.googleapis.com%2fauth%2fdrive.photos.readonly%20https%3a%2f%2fwww.googleapis.com%2fauth%2fpeopleapi.readonly\n",
      "\n",
      "Enter your authorization code:\n",
      "··········\n",
      "Mounted at /content/drive\n"
     ]
    }
   ],
   "source": [
    "from google.colab import drive\n",
    "drive.mount('/content/drive')"
   ]
  },
  {
   "cell_type": "code",
   "execution_count": 3,
   "metadata": {
    "colab": {
     "base_uri": "https://localhost:8080/",
     "height": 50
    },
    "colab_type": "code",
    "executionInfo": {
     "elapsed": 8219,
     "status": "ok",
     "timestamp": 1589010330864,
     "user": {
      "displayName": "Davin Park",
      "photoUrl": "https://lh4.googleusercontent.com/-NhlLDqI55RM/AAAAAAAAAAI/AAAAAAAAFUY/8NbR9a_AzPE/s64/photo.jpg",
      "userId": "03358772797378969831"
     },
     "user_tz": 240
    },
    "id": "2P4pFfwCx_Vh",
    "outputId": "63a24608-341c-489f-80c0-3a17e08fc85c"
   },
   "outputs": [
    {
     "name": "stdout",
     "output_type": "stream",
     "text": [
      "/content/drive/My Drive/DL_Project\n",
      "Already up to date.\n"
     ]
    }
   ],
   "source": [
    "%cd /content/drive/My\\ Drive/DL_Project\n",
    "!git pull"
   ]
  },
  {
   "cell_type": "code",
   "execution_count": 0,
   "metadata": {
    "colab": {},
    "colab_type": "code",
    "id": "64_-nKgkyZug"
   },
   "outputs": [],
   "source": [
    "# !mkdir data\n",
    "# %cd data\n",
    "# !gsutil -m cp gs://quickdraw_dataset/full/numpy_bitmap/*.npy .\n",
    "# %cd .."
   ]
  },
  {
   "cell_type": "code",
   "execution_count": 1,
   "metadata": {
    "colab": {},
    "colab_type": "code",
    "id": "8z_wmXJbxl6q"
   },
   "outputs": [],
   "source": [
    "import numpy as np\n",
    "import torch\n",
    "import os\n",
    "from matplotlib import pyplot as plt\n",
    "from torch.utils.data import Dataset, DataLoader\n",
    "\n",
    "%matplotlib inline "
   ]
  },
  {
   "cell_type": "code",
   "execution_count": 30,
   "metadata": {
    "colab": {},
    "colab_type": "code",
    "id": "VxATogzt5DXT"
   },
   "outputs": [],
   "source": [
    "class SketchDataSet(Dataset):\n",
    "    \"\"\" Sketch datset \"\"\"\n",
    "    def __init__(self, directory):\n",
    "        self.length = 0\n",
    "        for filename in os.listdir(directory):\n",
    "            if filename.endswith(\".npy\"): \n",
    "                data = np.load(directory + filename)\n",
    "                self.length += len(data)\n",
    "\n",
    "        self.data = [None]*self.length\n",
    "        i = 0\n",
    "        for filename in os.listdir(directory):\n",
    "            j = 0\n",
    "            data = np.load(directory + filename)\n",
    "            for j in range(0, len(data)):\n",
    "                self.data[i] = torch.from_numpy(data[j].reshape(28, 28) / 25)\n",
    "                j += 1\n",
    "            i += 1\n",
    "\n",
    "    def __len__(self):\n",
    "        return self.length\n",
    "\n",
    "    def __getitem__(self, i):\n",
    "        return self.data[i]"
   ]
  },
  {
   "cell_type": "code",
   "execution_count": 31,
   "metadata": {
    "colab": {},
    "colab_type": "code",
    "id": "iKVjdMLgCFTb"
   },
   "outputs": [],
   "source": [
    "# If AttributeError: __enter__, update numpy version\n",
    "dataset = SketchDataSet(\"./data/\")"
   ]
  },
  {
   "cell_type": "code",
   "execution_count": 35,
   "metadata": {
    "colab": {
     "base_uri": "https://localhost:8080/",
     "height": 265
    },
    "colab_type": "code",
    "executionInfo": {
     "elapsed": 326,
     "status": "ok",
     "timestamp": 1589011505404,
     "user": {
      "displayName": "Davin Park",
      "photoUrl": "https://lh4.googleusercontent.com/-NhlLDqI55RM/AAAAAAAAAAI/AAAAAAAAFUY/8NbR9a_AzPE/s64/photo.jpg",
      "userId": "03358772797378969831"
     },
     "user_tz": 240
    },
    "id": "ywXKsGfLCo9W",
    "outputId": "0ae4ce9b-66ed-4a33-a609-f6a18eec58b3"
   },
   "outputs": [
    {
     "name": "stdout",
     "output_type": "stream",
     "text": [
      "2684309\n"
     ]
    },
    {
     "data": {
      "image/png": "[encoded data removed]",
      "text/plain": [
       "<Figure size 432x288 with 1 Axes>"
      ]
     },
     "metadata": {
      "needs_background": "light"
     },
     "output_type": "display_data"
    }
   ],
   "source": [
    "print(len(dataset))\n",
    "plt.imshow(dataset[3])\n",
    "plt.show()"
   ]
  },
  {
   "cell_type": "code",
   "execution_count": null,
   "metadata": {},
   "outputs": [],
   "source": []
  }
 ],
 "metadata": {
  "colab": {
   "authorship_tag": "ABX9TyOACPXDngWbM2BapCNcngs3",
   "collapsed_sections": [],
   "name": "data_loader.ipynb",
   "provenance": []
  },
  "kernelspec": {
   "display_name": "Python 3",
   "language": "python",
   "name": "python3"
  },
  "language_info": {
   "codemirror_mode": {
    "name": "ipython",
    "version": 3
   },
   "file_extension": ".py",
   "mimetype": "text/x-python",
   "name": "python",
   "nbconvert_exporter": "python",
   "pygments_lexer": "ipython3",
   "version": "3.7.7"
  }
 },
 "nbformat": 4,
 "nbformat_minor": 1
}
