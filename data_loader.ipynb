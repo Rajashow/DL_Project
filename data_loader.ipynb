{
 "cells": [
  {
   "cell_type": "code",
   "execution_count": 2,
   "metadata": {
    "colab": {
     "base_uri": "https://localhost:8080/",
     "height": 121
    },
    "colab_type": "code",
    "executionInfo": {
     "elapsed": 12846,
     "status": "ok",
     "timestamp": 1589010316962,
     "user": {
      "displayName": "Davin Park",
      "photoUrl": "https://lh4.googleusercontent.com/-NhlLDqI55RM/AAAAAAAAAAI/AAAAAAAAFUY/8NbR9a_AzPE/s64/photo.jpg",
      "userId": "03358772797378969831"
     },
     "user_tz": 240
    },
    "id": "8aQvFMfxxMTy",
    "outputId": "3574a3e1-fc07-4524-b75e-156c1888ae6f"
   },
   "outputs": [
    {
     "name": "stdout",
     "output_type": "stream",
     "text": [
      "Go to this URL in a browser: https://accounts.google.com/o/oauth2/auth?client_id=947318989803-6bn6qk8qdgf4n4g3pfee6491hc0brc4i.apps.googleusercontent.com&redirect_uri=urn%3aietf%3awg%3aoauth%3a2.0%3aoob&response_type=code&scope=email%20https%3a%2f%2fwww.googleapis.com%2fauth%2fdocs.test%20https%3a%2f%2fwww.googleapis.com%2fauth%2fdrive%20https%3a%2f%2fwww.googleapis.com%2fauth%2fdrive.photos.readonly%20https%3a%2f%2fwww.googleapis.com%2fauth%2fpeopleapi.readonly\n",
      "\n",
      "Enter your authorization code:\n",
      "··········\n",
      "Mounted at /content/drive\n"
     ]
    }
   ],
   "source": [
    "from google.colab import drive\n",
    "drive.mount('/content/drive')"
   ]
  },
  {
   "cell_type": "code",
   "execution_count": 3,
   "metadata": {
    "colab": {
     "base_uri": "https://localhost:8080/",
     "height": 50
    },
    "colab_type": "code",
    "executionInfo": {
     "elapsed": 8219,
     "status": "ok",
     "timestamp": 1589010330864,
     "user": {
      "displayName": "Davin Park",
      "photoUrl": "https://lh4.googleusercontent.com/-NhlLDqI55RM/AAAAAAAAAAI/AAAAAAAAFUY/8NbR9a_AzPE/s64/photo.jpg",
      "userId": "03358772797378969831"
     },
     "user_tz": 240
    },
    "id": "2P4pFfwCx_Vh",
    "outputId": "63a24608-341c-489f-80c0-3a17e08fc85c"
   },
   "outputs": [
    {
     "name": "stdout",
     "output_type": "stream",
     "text": [
      "/content/drive/My Drive/DL_Project\n",
      "Already up to date.\n"
     ]
    }
   ],
   "source": [
    "%cd /content/drive/My\\ Drive/DL_Project\n",
    "!git pull"
   ]
  },
  {
   "cell_type": "code",
   "execution_count": 0,
   "metadata": {
    "colab": {},
    "colab_type": "code",
    "id": "64_-nKgkyZug"
   },
   "outputs": [],
   "source": [
    "# !mkdir data\n",
    "# %cd data\n",
    "# !gsutil -m cp gs://quickdraw_dataset/full/numpy_bitmap/*.npy .\n",
    "# %cd .."
   ]
  },
  {
   "cell_type": "code",
   "execution_count": 4,
   "metadata": {
    "colab": {},
    "colab_type": "code",
    "id": "8z_wmXJbxl6q"
   },
   "outputs": [],
   "source": [
    "import numpy as np\n",
    "import torch\n",
    "import os\n",
    "from torch.utils.data import Dataset, DataLoader\n",
    "\n",
    "from matplotlib import pyplot as plt\n",
    "%matplotlib inline "
   ]
  },
  {
   "cell_type": "code",
   "execution_count": 6,
   "metadata": {
    "colab": {},
    "colab_type": "code",
    "id": "VxATogzt5DXT"
   },
   "outputs": [],
   "source": [
    "class SketchDataSet(Dataset):\n",
    "    \"\"\" Sketch datset \"\"\"\n",
    "    def __init__(self, directory, is_train):\n",
    "        # Is this testing or training data?\n",
    "        if is_train:\n",
    "            self.is_train = True\n",
    "        else:\n",
    "            self.is_train = False\n",
    "    \n",
    "        self.num_class = 0 \n",
    "        self.num_images = 0\n",
    "        self.fnames = [None]*18\n",
    "        self.fsize = [None]*18\n",
    "        self.fimgsize = [None]*18\n",
    "        \n",
    "        i = 0\n",
    "        for filename in os.listdir(directory):\n",
    "            if filename.endswith(\".npy\"): \n",
    "                self.num_class += 1\n",
    "                data = np.load(directory + filename)\n",
    "                self.fnames[i] = directory + filename\n",
    "                if is_train:\n",
    "                    self.num_images += int(len(data)*0.8)\n",
    "                    self.fsize[i] = int(len(data)*0.8)\n",
    "                    self.fimgsize[i] = self.num_images\n",
    "                else:\n",
    "                    self.num_images += int(len(data)*0.2)\n",
    "                    self.fsize[i] = int(len(data)*0.2)\n",
    "                    self.fimgsize[i] = self.num_images\n",
    "                i += 1\n",
    "            \n",
    "    def size_of_class(self, ind):\n",
    "        return self.fsize[ind]\n",
    "    \n",
    "    def num_of_classes(self):\n",
    "        return self.num_class\n",
    "    \n",
    "    def get_fname(self, ind):\n",
    "        return self.fnames[ind]\n",
    "\n",
    "    def __len__(self):\n",
    "        return self.num_images\n",
    "\n",
    "    def __getitem__(self, ind):\n",
    "        if self.is_train:\n",
    "            for i in range(0, self.num_class):\n",
    "                if ind - self.fimgsize[i] < 0 and i == 0:\n",
    "                    img_dat = np.load(self.fnames[0])[ind].reshape(28, 28)\n",
    "                    return torch.from_numpy(img_dat), i\n",
    "                elif ind - self.fimgsize[i] < 0:\n",
    "                    img_dat = np.load(self.fnames[i])[ind - self.fimgsize[i-1]].reshape(28, 28)\n",
    "                    return torch.from_numpy(img_dat), i\n",
    "        else:\n",
    "            for i in range(0, self.num_class):\n",
    "                if ind - self.fimgsize[i] < 0 and i == 0:\n",
    "                    np_dat = np.load(self.fnames[0])\n",
    "                    ind_offset = int(len(np_dat)*0.8)\n",
    "\n",
    "                    img_dat = np_dat[ind + ind_offset].reshape(28, 28)\n",
    "                    return torch.from_numpy(img_dat), i\n",
    "                elif ind - self.fimgsize[i] < 0:\n",
    "                    np_dat = np.load(self.fnames[0])\n",
    "                    ind_offset = int(len(np_dat)*0.8)\n",
    "\n",
    "                    img_dat = np_dat[ind + ind_offset - self.fimgsize[i-1]].reshape(28, 28)\n",
    "                    return torch.from_numpy(img_dat), i\n",
    "        return None, None"
   ]
  },
  {
   "cell_type": "code",
   "execution_count": 7,
   "metadata": {
    "colab": {},
    "colab_type": "code",
    "id": "iKVjdMLgCFTb"
   },
   "outputs": [],
   "source": [
    "dataset = SketchDataSet(\"./data/\", is_train=True)"
   ]
  },
  {
   "cell_type": "code",
   "execution_count": 11,
   "metadata": {
    "colab": {
     "base_uri": "https://localhost:8080/",
     "height": 265
    },
    "colab_type": "code",
    "executionInfo": {
     "elapsed": 326,
     "status": "ok",
     "timestamp": 1589011505404,
     "user": {
      "displayName": "Davin Park",
      "photoUrl": "https://lh4.googleusercontent.com/-NhlLDqI55RM/AAAAAAAAAAI/AAAAAAAAFUY/8NbR9a_AzPE/s64/photo.jpg",
      "userId": "03358772797378969831"
     },
     "user_tz": 240
    },
    "id": "ywXKsGfLCo9W",
    "outputId": "0ae4ce9b-66ed-4a33-a609-f6a18eec58b3"
   },
   "outputs": [
    {
     "name": "stdout",
     "output_type": "stream",
     "text": [
      "2147438\n",
      "93203\n",
      "./data/aircraft carrier.npy\n"
     ]
    }
   ],
   "source": [
    "print(len(dataset))\n",
    "print(dataset.size_of_class(0))\n",
    "print(dataset.get_fname(0))"
   ]
  },
  {
   "cell_type": "code",
   "execution_count": 12,
   "metadata": {},
   "outputs": [
    {
     "data": {
      "image/png": "[encoded data removed]",
      "text/plain": [
       "<Figure size 432x288 with 1 Axes>"
      ]
     },
     "metadata": {
      "needs_background": "light"
     },
     "output_type": "display_data"
    }
   ],
   "source": [
    "data, label = dataset[93202]\n",
    "plt.imshow(data, cmap='Greys')\n",
    "plt.title(\"Label {} ({})\".format(label, 'aircraft carrier'))\n",
    "plt.show()"
   ]
  },
  {
   "cell_type": "code",
   "execution_count": 24,
   "metadata": {},
   "outputs": [
    {
     "data": {
      "image/png": "[encoded data removed]",
      "text/plain": [
       "<Figure size 432x288 with 1 Axes>"
      ]
     },
     "metadata": {
      "needs_background": "light"
     },
     "output_type": "display_data"
    },
    {
     "name": "stdout",
     "output_type": "stream",
     "text": [
      "Label 0\n"
     ]
    }
   ],
   "source": [
    "data, label = dataset[13]\n",
    "plt.imshow(data, cmap='Greys')\n",
    "plt.show()\n",
    "print(\"Label {}\".format(label))"
   ]
  },
  {
   "cell_type": "code",
   "execution_count": 25,
   "metadata": {},
   "outputs": [
    {
     "data": {
      "image/png": "[encoded data removed]",
      "text/plain": [
       "<Figure size 432x288 with 1 Axes>"
      ]
     },
     "metadata": {
      "needs_background": "light"
     },
     "output_type": "display_data"
    }
   ],
   "source": [
    "dat = np.load('./data/aircraft carrier.npy')\n",
    "plt.imshow(dat[13].reshape(28,28), cmap='Greys')\n",
    "plt.show()"
   ]
  },
  {
   "cell_type": "code",
   "execution_count": null,
   "metadata": {},
   "outputs": [],
   "source": []
  }
 ],
 "metadata": {
  "colab": {
   "authorship_tag": "ABX9TyOACPXDngWbM2BapCNcngs3",
   "collapsed_sections": [],
   "name": "data_loader.ipynb",
   "provenance": []
  },
  "kernelspec": {
   "display_name": "Python 3",
   "language": "python",
   "name": "python3"
  },
  "language_info": {
   "codemirror_mode": {
    "name": "ipython",
    "version": 3
   },
   "file_extension": ".py",
   "mimetype": "text/x-python",
   "name": "python",
   "nbconvert_exporter": "python",
   "pygments_lexer": "ipython3",
   "version": "3.7.7"
  }
 },
 "nbformat": 4,
 "nbformat_minor": 1
}
